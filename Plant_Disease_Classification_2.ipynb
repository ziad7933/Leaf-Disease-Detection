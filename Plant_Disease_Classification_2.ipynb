{
  "nbformat": 4,
  "nbformat_minor": 0,
  "metadata": {
    "colab": {
      "name": "Plant_Disease_Classification 2.ipynb",
      "provenance": [],
      "collapsed_sections": [],
      "toc_visible": true
    },
    "kernelspec": {
      "name": "python3",
      "display_name": "Python 3"
    },
    "accelerator": "TPU"
  },
  "cells": [
    {
      "cell_type": "code",
      "metadata": {
        "id": "AMUpYwh1HpCi"
      },
      "source": [
        "import numpy as np\n",
        "import pickle\n",
        "import cv2\n",
        "import os\n",
        "import math\n",
        "import matplotlib.pyplot as plt\n",
        "from os import listdir\n",
        "from sklearn.preprocessing import LabelBinarizer\n",
        "from keras.models import Sequential\n",
        "from keras.layers.normalization import BatchNormalization\n",
        "from keras.layers.convolutional import Conv2D\n",
        "from keras.layers.convolutional import MaxPooling2D\n",
        "from keras.layers.core import Activation, Flatten, Dropout, Dense\n",
        "from keras import backend as K\n",
        "from keras.preprocessing.image import ImageDataGenerator\n",
        "from keras.optimizers import Adam\n",
        "from keras.preprocessing import image\n",
        "from keras.preprocessing.image import img_to_array\n",
        "from sklearn.preprocessing import MultiLabelBinarizer\n",
        "from sklearn.model_selection import train_test_split"
      ],
      "execution_count": 103,
      "outputs": []
    },
    {
      "cell_type": "code",
      "metadata": {
        "colab": {
          "base_uri": "https://localhost:8080/"
        },
        "id": "xTQqhzfxUD6n",
        "outputId": "6422ecdf-3a08-41e3-e55d-d5d16b472113"
      },
      "source": [
        "from google.colab import drive\n",
        "drive.mount('/content/drive')"
      ],
      "execution_count": 104,
      "outputs": [
        {
          "output_type": "stream",
          "text": [
            "Drive already mounted at /content/drive; to attempt to forcibly remount, call drive.mount(\"/content/drive\", force_remount=True).\n"
          ],
          "name": "stdout"
        }
      ]
    },
    {
      "cell_type": "code",
      "metadata": {
        "id": "v5eHthEdIBsr"
      },
      "source": [
        "# Dimension of resized image\n",
        "DEFAULT_IMAGE_SIZE = tuple((256, 256))\n",
        "\n",
        "# Number of images used to train the model\n",
        "N_IMAGES = 100\n",
        "\n",
        "# Path to the dataset folder\n",
        "root_dir = '/content/drive/MyDrive/proj/PlantVillage'\n",
        "\n",
        "train_dir = os.path.join(root_dir, 'train')\n",
        "val_dir = os.path.join(root_dir, 'val')"
      ],
      "execution_count": 105,
      "outputs": []
    },
    {
      "cell_type": "code",
      "metadata": {
        "id": "WnCNrzC539qT"
      },
      "source": [
        "def convert_image_to_array(image_dir):\n",
        "    try:\n",
        "        image = cv2.imread(image_dir)\n",
        "        if image is not None:\n",
        "            image = cv2.resize(image, DEFAULT_IMAGE_SIZE)   \n",
        "            return img_to_array(image)\n",
        "        else:\n",
        "            return np.array([])\n",
        "    except Exception as e:\n",
        "        print(f\"Error : {e}\")\n",
        "        return None"
      ],
      "execution_count": 106,
      "outputs": []
    },
    {
      "cell_type": "code",
      "metadata": {
        "id": "MPaECpW13__5",
        "colab": {
          "base_uri": "https://localhost:8080/"
        },
        "outputId": "0354d77e-ab25-4aa6-d3b8-57cfe6c95b4a"
      },
      "source": [
        "image_list, label_list = [], []\n",
        "\n",
        "try:\n",
        "    print(\"[INFO] Loading images ...\")\n",
        "    plant_disease_folder_list = listdir(train_dir)\n",
        "\n",
        "    for plant_disease_folder in plant_disease_folder_list:\n",
        "        print(f\"[INFO] Processing {plant_disease_folder} ...\")\n",
        "        plant_disease_image_list = listdir(f\"{train_dir}/{plant_disease_folder}/\")\n",
        "\n",
        "        for image in plant_disease_image_list[:N_IMAGES]:\n",
        "            image_directory = f\"{train_dir}/{plant_disease_folder}/{image}\"\n",
        "            if image_directory.endswith(\".jpg\")==True or image_directory.endswith(\".JPG\")==True:\n",
        "                image_list.append(convert_image_to_array(image_directory))\n",
        "                label_list.append(plant_disease_folder)\n",
        "\n",
        "    print(\"[INFO] Image loading completed\")  \n",
        "except Exception as e:\n",
        "    print(f\"Error : {e}\")\n",
        "\n",
        "# Transform the loaded training image data into numpy array\n",
        "np_image_list = np.array(image_list, dtype=np.float16) / 225.0\n",
        "print()\n",
        "\n",
        "# Check the number of images loaded for training\n",
        "image_len = len(image_list)\n",
        "print(f\"Total number of images: {image_len}\")"
      ],
      "execution_count": 107,
      "outputs": [
        {
          "output_type": "stream",
          "text": [
            "[INFO] Loading images ...\n",
            "[INFO] Processing Potato___healthy ...\n",
            "[INFO] Processing Potato___Late_blight ...\n",
            "[INFO] Processing Tomato__Target_Spot ...\n",
            "[INFO] Processing Pepper__bell___healthy ...\n",
            "[INFO] Processing Potato___Early_blight ...\n",
            "[INFO] Processing Tomato__Tomato_mosaic_virus ...\n",
            "[INFO] Processing Tomato__Tomato_YellowLeaf__Curl_Virus ...\n",
            "[INFO] Processing Tomato_Bacterial_spot ...\n",
            "[INFO] Processing Tomato_Early_blight ...\n",
            "[INFO] Processing Tomato_Late_blight ...\n",
            "[INFO] Processing Tomato_healthy ...\n",
            "[INFO] Processing Tomato_Spider_mites_Two_spotted_spider_mite ...\n",
            "[INFO] Processing Tomato_Septoria_leaf_spot ...\n",
            "[INFO] Processing Tomato_Leaf_Mold ...\n",
            "[INFO] Processing Pepper__bell___Bacterial_spot ...\n",
            "[INFO] Image loading completed\n",
            "\n",
            "Total number of images: 1500\n"
          ],
          "name": "stdout"
        }
      ]
    },
    {
      "cell_type": "code",
      "metadata": {
        "id": "jq5HO2SuILNk",
        "colab": {
          "base_uri": "https://localhost:8080/"
        },
        "outputId": "2e91c0c7-389f-46f8-8554-78c1512b0acd"
      },
      "source": [
        "label_binarizer = LabelBinarizer()\n",
        "image_labels = label_binarizer.fit_transform(label_list)\n",
        "\n",
        "pickle.dump(label_binarizer,open('plant_disease_label_transform.pkl', 'wb'))\n",
        "n_classes = len(label_binarizer.classes_)\n",
        "\n",
        "print(\"Total number of classes: \", n_classes)"
      ],
      "execution_count": 108,
      "outputs": [
        {
          "output_type": "stream",
          "text": [
            "Total number of classes:  15\n"
          ],
          "name": "stdout"
        }
      ]
    },
    {
      "cell_type": "code",
      "metadata": {
        "id": "pbIYhnSFJkjp"
      },
      "source": [
        "augment = ImageDataGenerator(rotation_range=25, width_shift_range=0.1,\n",
        "                             height_shift_range=0.1, shear_range=0.2, \n",
        "                             zoom_range=0.2, horizontal_flip=True, \n",
        "                             fill_mode=\"nearest\")"
      ],
      "execution_count": 109,
      "outputs": []
    },
    {
      "cell_type": "code",
      "metadata": {
        "id": "0Ls-TztoQlwD",
        "colab": {
          "base_uri": "https://localhost:8080/"
        },
        "outputId": "04e34e56-a830-47a4-98c3-d09e7c6fd85e"
      },
      "source": [
        "print(\"[INFO] Splitting data to train and test...\")\n",
        "x_train, x_test, y_train, y_test = train_test_split(np_image_list, image_labels, test_size=0.2, random_state = 42) "
      ],
      "execution_count": 110,
      "outputs": [
        {
          "output_type": "stream",
          "text": [
            "[INFO] Splitting data to train and test...\n"
          ],
          "name": "stdout"
        }
      ]
    },
    {
      "cell_type": "code",
      "metadata": {
        "id": "BLZkDigJ9q4X"
      },
      "source": [
        "EPOCHS = 50\n",
        "STEPS = 100\n",
        "LR = 1e-3\n",
        "BATCH_SIZE = 32\n",
        "WIDTH = 256\n",
        "HEIGHT = 256\n",
        "DEPTH = 3"
      ],
      "execution_count": 111,
      "outputs": []
    },
    {
      "cell_type": "code",
      "metadata": {
        "id": "J_QFYYx8OVOb",
        "colab": {
          "base_uri": "https://localhost:8080/"
        },
        "outputId": "c77c3e4c-f48c-4075-ad79-76d86e8adbaf"
      },
      "source": [
        "model = Sequential()\n",
        "inputShape = (HEIGHT, WIDTH, DEPTH)\n",
        "chanDim = -1\n",
        "\n",
        "if K.image_data_format() == \"channels_first\":\n",
        "    inputShape = (DEPTH, HEIGHT, WIDTH)\n",
        "    chanDim = -1\n",
        "\n",
        "model.add(Conv2D(32, (3, 3), padding = \"same\", input_shape = inputShape))\n",
        "model.add(Activation(\"relu\"))\n",
        "# model.add(BatchNormalization(axis = chanDim))\n",
        "model.add(MaxPooling2D(pool_size = (3, 3)))\n",
        "# model.add(Dropout(0.25))\n",
        "\n",
        "model.add(Conv2D(32, (3, 3), padding = \"same\"))\n",
        "model.add(Activation(\"relu\"))\n",
        "# model.add(BatchNormalization(axis = chanDim))\n",
        "model.add(MaxPooling2D(pool_size = (3, 3)))\n",
        "# model.add(Dropout(0.25))\n",
        "\n",
        "model.add(Conv2D(64, (3, 3), padding = \"same\"))\n",
        "model.add(Activation(\"relu\"))\n",
        "# model.add(BatchNormalization(axis = chanDim))\n",
        "model.add(MaxPooling2D(pool_size = (3, 3)))\n",
        "# model.add(Dropout(0.25))\n",
        "\n",
        "model.add(Flatten())\n",
        "model.add(Dense(32))\n",
        "model.add(Activation(\"relu\"))\n",
        "model.add(Dropout(0.5))\n",
        "\n",
        "model.add(Dense(n_classes))\n",
        "model.add(Activation(\"sigmoid\"))\n",
        "\n",
        "model.summary()"
      ],
      "execution_count": 112,
      "outputs": [
        {
          "output_type": "stream",
          "text": [
            "Model: \"sequential_9\"\n",
            "_________________________________________________________________\n",
            "Layer (type)                 Output Shape              Param #   \n",
            "=================================================================\n",
            "conv2d_27 (Conv2D)           (None, 256, 256, 32)      896       \n",
            "_________________________________________________________________\n",
            "activation_45 (Activation)   (None, 256, 256, 32)      0         \n",
            "_________________________________________________________________\n",
            "max_pooling2d_27 (MaxPooling (None, 85, 85, 32)        0         \n",
            "_________________________________________________________________\n",
            "conv2d_28 (Conv2D)           (None, 85, 85, 32)        9248      \n",
            "_________________________________________________________________\n",
            "activation_46 (Activation)   (None, 85, 85, 32)        0         \n",
            "_________________________________________________________________\n",
            "max_pooling2d_28 (MaxPooling (None, 28, 28, 32)        0         \n",
            "_________________________________________________________________\n",
            "conv2d_29 (Conv2D)           (None, 28, 28, 64)        18496     \n",
            "_________________________________________________________________\n",
            "activation_47 (Activation)   (None, 28, 28, 64)        0         \n",
            "_________________________________________________________________\n",
            "max_pooling2d_29 (MaxPooling (None, 9, 9, 64)          0         \n",
            "_________________________________________________________________\n",
            "flatten_9 (Flatten)          (None, 5184)              0         \n",
            "_________________________________________________________________\n",
            "dense_18 (Dense)             (None, 32)                165920    \n",
            "_________________________________________________________________\n",
            "activation_48 (Activation)   (None, 32)                0         \n",
            "_________________________________________________________________\n",
            "dropout_33 (Dropout)         (None, 32)                0         \n",
            "_________________________________________________________________\n",
            "dense_19 (Dense)             (None, 15)                495       \n",
            "_________________________________________________________________\n",
            "activation_49 (Activation)   (None, 15)                0         \n",
            "=================================================================\n",
            "Total params: 195,055\n",
            "Trainable params: 195,055\n",
            "Non-trainable params: 0\n",
            "_________________________________________________________________\n"
          ],
          "name": "stdout"
        }
      ]
    },
    {
      "cell_type": "code",
      "metadata": {
        "id": "PFRGnmHiO0Wt",
        "colab": {
          "base_uri": "https://localhost:8080/"
        },
        "outputId": "ba50987b-8a85-4067-b595-bad483325783"
      },
      "source": [
        "# Initialize optimizer\n",
        "opt = Adam(lr=LR, decay=LR / EPOCHS)\n",
        "\n",
        "# Compile model\n",
        "model.compile(loss=\"binary_crossentropy\", optimizer=opt, metrics=[\"accuracy\"])\n",
        "\n",
        "# Train model\n",
        "print(\"[INFO] Training network...\")\n",
        "history = model.fit_generator(augment.flow(x_train, y_train, batch_size=BATCH_SIZE),\n",
        "                              validation_data=(x_test, y_test),\n",
        "                              steps_per_epoch=len(x_train) // BATCH_SIZE,\n",
        "                              epochs=EPOCHS, \n",
        "                              verbose=1)"
      ],
      "execution_count": 113,
      "outputs": [
        {
          "output_type": "stream",
          "text": [
            "[INFO] Training network...\n"
          ],
          "name": "stdout"
        },
        {
          "output_type": "stream",
          "text": [
            "/usr/local/lib/python3.6/dist-packages/tensorflow/python/keras/engine/training.py:1844: UserWarning: `Model.fit_generator` is deprecated and will be removed in a future version. Please use `Model.fit`, which supports generators.\n",
            "  warnings.warn('`Model.fit_generator` is deprecated and '\n"
          ],
          "name": "stderr"
        },
        {
          "output_type": "stream",
          "text": [
            "Epoch 1/50\n",
            "37/37 [==============================] - 97s 3s/step - loss: 0.6085 - accuracy: 0.0567 - val_loss: 0.3861 - val_accuracy: 0.0667\n",
            "Epoch 2/50\n",
            "37/37 [==============================] - 90s 2s/step - loss: 0.4570 - accuracy: 0.0724 - val_loss: 0.2911 - val_accuracy: 0.1100\n",
            "Epoch 3/50\n",
            "37/37 [==============================] - 92s 2s/step - loss: 0.3755 - accuracy: 0.0675 - val_loss: 0.2600 - val_accuracy: 0.0667\n",
            "Epoch 4/50\n",
            "37/37 [==============================] - 91s 2s/step - loss: 0.3229 - accuracy: 0.0915 - val_loss: 0.2449 - val_accuracy: 0.1200\n",
            "Epoch 5/50\n",
            "37/37 [==============================] - 93s 3s/step - loss: 0.3050 - accuracy: 0.0903 - val_loss: 0.2392 - val_accuracy: 0.1300\n",
            "Epoch 6/50\n",
            "37/37 [==============================] - 94s 3s/step - loss: 0.2870 - accuracy: 0.1121 - val_loss: 0.2411 - val_accuracy: 0.1033\n",
            "Epoch 7/50\n",
            "37/37 [==============================] - 91s 2s/step - loss: 0.2875 - accuracy: 0.1052 - val_loss: 0.2176 - val_accuracy: 0.2800\n",
            "Epoch 8/50\n",
            "37/37 [==============================] - 93s 2s/step - loss: 0.2719 - accuracy: 0.1416 - val_loss: 0.2145 - val_accuracy: 0.2333\n",
            "Epoch 9/50\n",
            "37/37 [==============================] - 89s 2s/step - loss: 0.2642 - accuracy: 0.1495 - val_loss: 0.2122 - val_accuracy: 0.2267\n",
            "Epoch 10/50\n",
            "37/37 [==============================] - 91s 2s/step - loss: 0.2606 - accuracy: 0.1665 - val_loss: 0.2063 - val_accuracy: 0.3033\n",
            "Epoch 11/50\n",
            "37/37 [==============================] - 92s 2s/step - loss: 0.2549 - accuracy: 0.1691 - val_loss: 0.2030 - val_accuracy: 0.3100\n",
            "Epoch 12/50\n",
            "37/37 [==============================] - 88s 2s/step - loss: 0.2465 - accuracy: 0.2164 - val_loss: 0.1992 - val_accuracy: 0.3167\n",
            "Epoch 13/50\n",
            "37/37 [==============================] - 94s 3s/step - loss: 0.2476 - accuracy: 0.2081 - val_loss: 0.2057 - val_accuracy: 0.2633\n",
            "Epoch 14/50\n",
            "37/37 [==============================] - 93s 3s/step - loss: 0.2443 - accuracy: 0.2050 - val_loss: 0.2079 - val_accuracy: 0.3500\n",
            "Epoch 15/50\n",
            "37/37 [==============================] - 90s 2s/step - loss: 0.2421 - accuracy: 0.2085 - val_loss: 0.1952 - val_accuracy: 0.3067\n",
            "Epoch 16/50\n",
            "37/37 [==============================] - 91s 2s/step - loss: 0.2365 - accuracy: 0.2281 - val_loss: 0.1878 - val_accuracy: 0.4033\n",
            "Epoch 17/50\n",
            "37/37 [==============================] - 95s 3s/step - loss: 0.2272 - accuracy: 0.2592 - val_loss: 0.1945 - val_accuracy: 0.3600\n",
            "Epoch 18/50\n",
            "37/37 [==============================] - 95s 3s/step - loss: 0.2298 - accuracy: 0.2628 - val_loss: 0.1760 - val_accuracy: 0.4267\n",
            "Epoch 19/50\n",
            "37/37 [==============================] - 95s 3s/step - loss: 0.2259 - accuracy: 0.2849 - val_loss: 0.1783 - val_accuracy: 0.4467\n",
            "Epoch 20/50\n",
            "37/37 [==============================] - 96s 3s/step - loss: 0.2226 - accuracy: 0.2913 - val_loss: 0.1741 - val_accuracy: 0.4167\n",
            "Epoch 21/50\n",
            "37/37 [==============================] - 92s 2s/step - loss: 0.2154 - accuracy: 0.3019 - val_loss: 0.1634 - val_accuracy: 0.5267\n",
            "Epoch 22/50\n",
            "37/37 [==============================] - 93s 3s/step - loss: 0.2140 - accuracy: 0.3378 - val_loss: 0.1707 - val_accuracy: 0.5033\n",
            "Epoch 23/50\n",
            "37/37 [==============================] - 96s 3s/step - loss: 0.2174 - accuracy: 0.3331 - val_loss: 0.1749 - val_accuracy: 0.4833\n",
            "Epoch 24/50\n",
            "37/37 [==============================] - 96s 3s/step - loss: 0.2179 - accuracy: 0.3087 - val_loss: 0.1554 - val_accuracy: 0.5733\n",
            "Epoch 25/50\n",
            "37/37 [==============================] - 92s 2s/step - loss: 0.2067 - accuracy: 0.3421 - val_loss: 0.1536 - val_accuracy: 0.6033\n",
            "Epoch 26/50\n",
            "37/37 [==============================] - 91s 2s/step - loss: 0.2035 - accuracy: 0.3593 - val_loss: 0.1474 - val_accuracy: 0.6067\n",
            "Epoch 27/50\n",
            "37/37 [==============================] - 96s 3s/step - loss: 0.2026 - accuracy: 0.3566 - val_loss: 0.1793 - val_accuracy: 0.4800\n",
            "Epoch 28/50\n",
            "37/37 [==============================] - 91s 2s/step - loss: 0.2044 - accuracy: 0.3745 - val_loss: 0.1403 - val_accuracy: 0.6867\n",
            "Epoch 29/50\n",
            "37/37 [==============================] - 91s 2s/step - loss: 0.1962 - accuracy: 0.3782 - val_loss: 0.1598 - val_accuracy: 0.5667\n",
            "Epoch 30/50\n",
            "37/37 [==============================] - 93s 3s/step - loss: 0.2010 - accuracy: 0.3664 - val_loss: 0.1433 - val_accuracy: 0.6033\n",
            "Epoch 31/50\n",
            "37/37 [==============================] - 94s 3s/step - loss: 0.1973 - accuracy: 0.3807 - val_loss: 0.1548 - val_accuracy: 0.5800\n",
            "Epoch 32/50\n",
            "37/37 [==============================] - 91s 2s/step - loss: 0.1963 - accuracy: 0.3919 - val_loss: 0.1525 - val_accuracy: 0.5933\n",
            "Epoch 33/50\n",
            "37/37 [==============================] - 96s 3s/step - loss: 0.1905 - accuracy: 0.4044 - val_loss: 0.1322 - val_accuracy: 0.6733\n",
            "Epoch 34/50\n",
            "37/37 [==============================] - 96s 3s/step - loss: 0.1863 - accuracy: 0.4260 - val_loss: 0.1617 - val_accuracy: 0.5833\n",
            "Epoch 35/50\n",
            "37/37 [==============================] - 93s 2s/step - loss: 0.1902 - accuracy: 0.4127 - val_loss: 0.1368 - val_accuracy: 0.6733\n",
            "Epoch 36/50\n",
            "37/37 [==============================] - 94s 3s/step - loss: 0.1804 - accuracy: 0.4523 - val_loss: 0.1341 - val_accuracy: 0.6733\n",
            "Epoch 37/50\n",
            "37/37 [==============================] - 94s 3s/step - loss: 0.1882 - accuracy: 0.4224 - val_loss: 0.1342 - val_accuracy: 0.6833\n",
            "Epoch 38/50\n",
            "37/37 [==============================] - 94s 3s/step - loss: 0.1854 - accuracy: 0.3928 - val_loss: 0.1395 - val_accuracy: 0.6633\n",
            "Epoch 39/50\n",
            "37/37 [==============================] - 92s 2s/step - loss: 0.1737 - accuracy: 0.4497 - val_loss: 0.1345 - val_accuracy: 0.6600\n",
            "Epoch 40/50\n",
            "37/37 [==============================] - 96s 3s/step - loss: 0.1818 - accuracy: 0.4373 - val_loss: 0.1446 - val_accuracy: 0.6067\n",
            "Epoch 41/50\n",
            "37/37 [==============================] - 95s 3s/step - loss: 0.1864 - accuracy: 0.3917 - val_loss: 0.1435 - val_accuracy: 0.6500\n",
            "Epoch 42/50\n",
            "37/37 [==============================] - 92s 2s/step - loss: 0.1734 - accuracy: 0.4503 - val_loss: 0.1409 - val_accuracy: 0.6533\n",
            "Epoch 43/50\n",
            "37/37 [==============================] - 93s 2s/step - loss: 0.1837 - accuracy: 0.4248 - val_loss: 0.1563 - val_accuracy: 0.6033\n",
            "Epoch 44/50\n",
            "37/37 [==============================] - 93s 3s/step - loss: 0.1872 - accuracy: 0.4293 - val_loss: 0.1249 - val_accuracy: 0.6900\n",
            "Epoch 45/50\n",
            "37/37 [==============================] - 93s 3s/step - loss: 0.1818 - accuracy: 0.4220 - val_loss: 0.1243 - val_accuracy: 0.7367\n",
            "Epoch 46/50\n",
            "37/37 [==============================] - 93s 3s/step - loss: 0.1751 - accuracy: 0.4557 - val_loss: 0.1156 - val_accuracy: 0.7000\n",
            "Epoch 47/50\n",
            "37/37 [==============================] - 95s 3s/step - loss: 0.1799 - accuracy: 0.4148 - val_loss: 0.1219 - val_accuracy: 0.7033\n",
            "Epoch 48/50\n",
            "37/37 [==============================] - 93s 3s/step - loss: 0.1723 - accuracy: 0.4746 - val_loss: 0.1198 - val_accuracy: 0.6867\n",
            "Epoch 49/50\n",
            "37/37 [==============================] - 95s 3s/step - loss: 0.1731 - accuracy: 0.4493 - val_loss: 0.1229 - val_accuracy: 0.7200\n",
            "Epoch 50/50\n",
            "37/37 [==============================] - 96s 3s/step - loss: 0.1732 - accuracy: 0.4485 - val_loss: 0.1279 - val_accuracy: 0.7000\n"
          ],
          "name": "stdout"
        }
      ]
    },
    {
      "cell_type": "code",
      "metadata": {
        "id": "WlvFAyeuRQPK",
        "colab": {
          "base_uri": "https://localhost:8080/"
        },
        "outputId": "460d691d-3ce2-4a7b-f21f-de2d5ce0ff1d"
      },
      "source": [
        "print(\"[INFO] Calculating model accuracy\")\n",
        "scores = model.evaluate(x_test, y_test)\n",
        "print(f\"Test Accuracy: {scores[1]*100}\")"
      ],
      "execution_count": 114,
      "outputs": [
        {
          "output_type": "stream",
          "text": [
            "[INFO] Calculating model accuracy\n",
            "10/10 [==============================] - 6s 560ms/step - loss: 0.1279 - accuracy: 0.7000\n",
            "Test Accuracy: 69.9999988079071\n"
          ],
          "name": "stdout"
        }
      ]
    },
    {
      "cell_type": "code",
      "metadata": {
        "colab": {
          "base_uri": "https://localhost:8080/",
          "height": 544
        },
        "id": "NL75-uTTgHD0",
        "outputId": "239fcf84-df8a-496e-e2f5-b1b22e4c9c90"
      },
      "source": [
        "acc = history.history['accuracy']\r\n",
        "val_acc = history.history['val_accuracy']\r\n",
        "loss = history.history['loss']\r\n",
        "val_loss = history.history['val_loss']\r\n",
        "epochs = range(1, len(acc) + 1)\r\n",
        "\r\n",
        "# Train and validation accuracy\r\n",
        "plt.plot(epochs, acc, 'b', label='Training accurarcy')\r\n",
        "plt.plot(epochs, val_acc, 'r', label='Validation accurarcy')\r\n",
        "plt.title('Training and Validation accurarcy')\r\n",
        "plt.legend()\r\n",
        "\r\n",
        "plt.figure()\r\n",
        "\r\n",
        "# Train and validation loss\r\n",
        "plt.plot(epochs, loss, 'b', label='Training loss')\r\n",
        "plt.plot(epochs, val_loss, 'r', label='Validation loss')\r\n",
        "plt.title('Training and Validation loss')\r\n",
        "plt.legend()\r\n",
        "plt.show()"
      ],
      "execution_count": 115,
      "outputs": [
        {
          "output_type": "display_data",
          "data": {
            "image/png": "[encoded data removed]",
            "text/plain": [
              "<Figure size 432x288 with 1 Axes>"
            ]
          },
          "metadata": {
            "tags": [],
            "needs_background": "light"
          }
        },
        {
          "output_type": "display_data",
          "data": {
            "image/png": "[encoded data removed]",
            "text/plain": [
              "<Figure size 432x288 with 1 Axes>"
            ]
          },
          "metadata": {
            "tags": [],
            "needs_background": "light"
          }
        }
      ]
    },
    {
      "cell_type": "code",
      "metadata": {
        "colab": {
          "base_uri": "https://localhost:8080/"
        },
        "id": "itcpS9zuVaIT",
        "outputId": "0e1e38b0-1193-4fc9-9aa4-071f70976fc5"
      },
      "source": [
        "print(\"[INFO] Saving Model...\")\r\n",
        "model.save('Trained_model.h5')"
      ],
      "execution_count": 116,
      "outputs": [
        {
          "output_type": "stream",
          "text": [
            "[INFO] Saving Model...\n"
          ],
          "name": "stdout"
        }
      ]
    }
  ]
}